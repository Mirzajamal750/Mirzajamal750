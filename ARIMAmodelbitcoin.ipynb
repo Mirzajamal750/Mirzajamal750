{
  "nbformat": 4,
  "nbformat_minor": 0,
  "metadata": {
    "colab": {
      "name": "ARIMAmodelbit.ipynb",
      "private_outputs": true,
      "provenance": [],
      "collapsed_sections": [],
      "authorship_tag": "ABX9TyNqMKKc3eOdO6QbI5Tijcbe",
      "include_colab_link": true
    },
    "kernelspec": {
      "name": "python3",
      "display_name": "Python 3"
    },
    "language_info": {
      "name": "python"
    }
  },
  "cells": [
    {
      "cell_type": "markdown",
      "metadata": {
        "id": "view-in-github",
        "colab_type": "text"
      },
      "source": [
        "<a href=\"https://colab.research.google.com/github/Mirzajamal750/Mirzajamal750/blob/main/ARIMAmodelbitcoin.ipynb\" target=\"_parent\"><img src=\"https://colab.research.google.com/assets/colab-badge.svg\" alt=\"Open In Colab\"/></a>"
      ]
    },
    {
      "cell_type": "code",
      "execution_count": null,
      "metadata": {
        "id": "eiB9k4hY-8qt"
      },
      "outputs": [],
      "source": [
        "import pandas as pd\n",
        "import numpy as np\n",
        "import matplotlib.pyplot as plt\n",
        "\n",
        "\n",
        "import warnings\n",
        "warnings.filterwarnings('ignore')\n",
        "\n",
        "import matplotlib.dates as mdates\n",
        "!pip install yfinance\n",
        "import  yfinance as yf\n",
        "import math"
      ]
    },
    {
      "cell_type": "code",
      "source": [
        "from statsmodels.tsa.arima_model import ARIMA\n",
        "from sklearn.metrics import mean_absolute_error, mean_squared_error"
      ],
      "metadata": {
        "id": "RKzBLhb2HyJS"
      },
      "execution_count": null,
      "outputs": []
    },
    {
      "cell_type": "code",
      "source": [
        "df = yf.download('BTC-USD')"
      ],
      "metadata": {
        "id": "l5OyUkOeFCwj"
      },
      "execution_count": null,
      "outputs": []
    },
    {
      "cell_type": "code",
      "source": [
        "df"
      ],
      "metadata": {
        "id": "lTOdhJD6FyfL"
      },
      "execution_count": null,
      "outputs": []
    },
    {
      "cell_type": "code",
      "source": [
        "#fig1.set_size_inches(18.5,10.5)\n",
        "fig1=plt.plot(df.index, df[\"Adj Close\"])#\n",
        "plt.show(fig1)"
      ],
      "metadata": {
        "id": "-zd_0e4aFu50"
      },
      "execution_count": null,
      "outputs": []
    },
    {
      "cell_type": "code",
      "source": [
        "to_row=int(len(df)*0.9)\n",
        "training_data=list(df[0:to_row]['Adj Close'])\n",
        "testing_data=list(df[to_row:]['Adj Close'])"
      ],
      "metadata": {
        "id": "9C1g9OGIFu9e"
      },
      "execution_count": null,
      "outputs": []
    },
    {
      "cell_type": "code",
      "source": [
        "len(training_data),len(testing_data)"
      ],
      "metadata": {
        "id": "UWIWMst1Fu_T"
      },
      "execution_count": null,
      "outputs": []
    },
    {
      "cell_type": "code",
      "source": [
        "plt.figure(figsize=(10,6))\n",
        "plt.grid(True)\n",
        "plt.xlabel('Dates')\n",
        "plt.ylabel('Closing Prices')\n",
        "plt.plot(df[0:to_row]['Adj Close'],'green',label='Train data')\n",
        "plt.plot(df[to_row:]['Adj Close'],'blue',label='Test data')\n",
        "plt.legend()"
      ],
      "metadata": {
        "id": "YCSWI0SOFvDO"
      },
      "execution_count": null,
      "outputs": []
    },
    {
      "cell_type": "code",
      "source": [
        "model_prediction=[]\n",
        "n_test_obser=len(testing_data)"
      ],
      "metadata": {
        "id": "f1kZSvRqFvE0"
      },
      "execution_count": null,
      "outputs": []
    },
    {
      "cell_type": "code",
      "source": [
        "for i in range (n_test_obser):\n",
        "  model=ARIMA(training_data, order=(4,1,0))\n",
        "  model_fit=model.fit()\n",
        "  output= model_fit.forecast()\n",
        "  yhat=list(output[0])[0]\n",
        "  model_prediction.append(yhat)\n",
        "  actual_test_value=testing_data[i]\n",
        "  training_data.append(actual_test_value)\n"
      ],
      "metadata": {
        "id": "BOYAoN_DFvIH"
      },
      "execution_count": null,
      "outputs": []
    },
    {
      "cell_type": "code",
      "source": [
        "list(output[0])[0]"
      ],
      "metadata": {
        "id": "T3EN4ZDSODMb"
      },
      "execution_count": null,
      "outputs": []
    },
    {
      "cell_type": "code",
      "source": [
        "print(model_fit.summary())"
      ],
      "metadata": {
        "id": "GVo6s9tBODOP"
      },
      "execution_count": null,
      "outputs": []
    },
    {
      "cell_type": "code",
      "source": [
        "len(model_prediction)"
      ],
      "metadata": {
        "id": "V_CaoOq0Qy9G"
      },
      "execution_count": null,
      "outputs": []
    },
    {
      "cell_type": "code",
      "source": [
        "plt.figure(figsize=(15,9))\n",
        "plt.grid(True)\n",
        "date_range=df[to_row:].index\n",
        "plt.plot(date_range, model_prediction[:-4], color='blue', marker='o',linestyle='dashed',label=\"BTC prediction\")\n",
        "plt.plot(date_range, testing_data,color='green',label=\"BTC actuall Price\")\n",
        "plt.title('Bitcoin Price Prediction')\n",
        "plt.xlabel('Date')\n",
        "plt.ylabel('Price')\n",
        "plt.legend()\n",
        "plt.show()"
      ],
      "metadata": {
        "id": "yYJmSpLWODSU"
      },
      "execution_count": null,
      "outputs": []
    },
    {
      "cell_type": "code",
      "source": [
        "mape=np.mean(np.abs(np.array(model_prediction[:-4])-np.array(testing_data))/np.abs(testing_data))\n",
        "print('MAPE:'+str(mape))\n"
      ],
      "metadata": {
        "id": "gt7tbI7AQxgv"
      },
      "execution_count": null,
      "outputs": []
    },
    {
      "cell_type": "code",
      "source": [
        ""
      ],
      "metadata": {
        "id": "A0ZiEN10ODUY"
      },
      "execution_count": null,
      "outputs": []
    },
    {
      "cell_type": "code",
      "source": [
        ""
      ],
      "metadata": {
        "id": "MjXpY7pTODZF"
      },
      "execution_count": null,
      "outputs": []
    },
    {
      "cell_type": "code",
      "source": [
        ""
      ],
      "metadata": {
        "id": "yTRCcQxRU0s4"
      },
      "execution_count": null,
      "outputs": []
    },
    {
      "cell_type": "code",
      "source": [
        ""
      ],
      "metadata": {
        "id": "f7hTm_WoVbMa"
      },
      "execution_count": null,
      "outputs": []
    },
    {
      "cell_type": "code",
      "source": [
        ""
      ],
      "metadata": {
        "id": "b1ZvPsyeODbI"
      },
      "execution_count": null,
      "outputs": []
    },
    {
      "cell_type": "code",
      "source": [
        ""
      ],
      "metadata": {
        "id": "WnHuryiWODhR"
      },
      "execution_count": null,
      "outputs": []
    }
  ]
}