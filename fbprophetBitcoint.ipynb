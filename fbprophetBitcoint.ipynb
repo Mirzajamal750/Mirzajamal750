{
  "nbformat": 4,
  "nbformat_minor": 0,
  "metadata": {
    "colab": {
      "name": "fbprophetlast.ipynb",
      "private_outputs": true,
      "provenance": [],
      "collapsed_sections": [],
      "authorship_tag": "ABX9TyPnsaK4X5ePd5fTqKb/pF/9",
      "include_colab_link": true
    },
    "kernelspec": {
      "name": "python3",
      "display_name": "Python 3"
    },
    "language_info": {
      "name": "python"
    },
    "accelerator": "TPU"
  },
  "cells": [
    {
      "cell_type": "markdown",
      "metadata": {
        "id": "view-in-github",
        "colab_type": "text"
      },
      "source": [
        "<a href=\"https://colab.research.google.com/github/Mirzajamal750/Mirzajamal750/blob/main/fbprophetBitcoint.ipynb\" target=\"_parent\"><img src=\"https://colab.research.google.com/assets/colab-badge.svg\" alt=\"Open In Colab\"/></a>"
      ]
    },
    {
      "cell_type": "code",
      "execution_count": null,
      "metadata": {
        "id": "5ouislce56bF"
      },
      "outputs": [],
      "source": [
        "pip install prophet"
      ]
    },
    {
      "cell_type": "code",
      "source": [
        "pip install yfinance"
      ],
      "metadata": {
        "id": "YY5kNxNI6VHU"
      },
      "execution_count": null,
      "outputs": []
    },
    {
      "cell_type": "code",
      "source": [
        "from fbprophet import Prophet\n",
        "import pandas as pd, matplotlib.pyplot as plt, yfinance as yf"
      ],
      "metadata": {
        "id": "7NkkpMo06VJY"
      },
      "execution_count": null,
      "outputs": []
    },
    {
      "cell_type": "code",
      "source": [
        "df = yf.download('BTC-USD')"
      ],
      "metadata": {
        "id": "dUNjmHH56VNQ"
      },
      "execution_count": null,
      "outputs": []
    },
    {
      "cell_type": "code",
      "source": [
        "df.reset_index(inplace = True)\n",
        "df = df[['Date', 'Adj Close']]"
      ],
      "metadata": {
        "id": "4LwfgZjG6VPE"
      },
      "execution_count": null,
      "outputs": []
    },
    {
      "cell_type": "code",
      "source": [
        "df.columns = ['ds', 'y']"
      ],
      "metadata": {
        "id": "p_bJRD0T6VTZ"
      },
      "execution_count": null,
      "outputs": []
    },
    {
      "cell_type": "code",
      "source": [
        "df"
      ],
      "metadata": {
        "id": "mO4Q2Za66VVo"
      },
      "execution_count": null,
      "outputs": []
    },
    {
      "cell_type": "code",
      "source": [
        "model = Prophet()"
      ],
      "metadata": {
        "id": "2WDwRXAT6VaF"
      },
      "execution_count": null,
      "outputs": []
    },
    {
      "cell_type": "code",
      "source": [
        "model.fit(df)"
      ],
      "metadata": {
        "id": "Os9b_ynb6VbX"
      },
      "execution_count": null,
      "outputs": []
    },
    {
      "cell_type": "code",
      "source": [
        "model.component_modes"
      ],
      "metadata": {
        "id": "o9ChLXh-6Vfx"
      },
      "execution_count": null,
      "outputs": []
    },
    {
      "cell_type": "code",
      "source": [
        "df.tail()"
      ],
      "metadata": {
        "id": "mxcjzEQb6ViJ"
      },
      "execution_count": null,
      "outputs": []
    },
    {
      "cell_type": "code",
      "source": [
        "future_dates = model.make_future_dataframe(periods= 60)"
      ],
      "metadata": {
        "id": "4dEbUjsg6VnC"
      },
      "execution_count": null,
      "outputs": []
    },
    {
      "cell_type": "code",
      "source": [
        "future_dates.tail()"
      ],
      "metadata": {
        "id": "JCH0d3Ny6ya4"
      },
      "execution_count": null,
      "outputs": []
    },
    {
      "cell_type": "code",
      "source": [
        "prediction = model.predict(future_dates)"
      ],
      "metadata": {
        "id": "dCBf3nrG63Mn"
      },
      "execution_count": null,
      "outputs": []
    },
    {
      "cell_type": "code",
      "source": [
        "prediction.tail()"
      ],
      "metadata": {
        "id": "2Yw63x0J63PD"
      },
      "execution_count": null,
      "outputs": []
    },
    {
      "cell_type": "code",
      "source": [
        "fig = model.plot(prediction)"
      ],
      "metadata": {
        "id": "eQxB4t3z63Sh"
      },
      "execution_count": null,
      "outputs": []
    },
    {
      "cell_type": "code",
      "source": [
        "from fbprophet.plot import plot_plotly\n",
        "plot_plotly(model, prediction)"
      ],
      "metadata": {
        "id": "YPjOiu4k6yfl"
      },
      "execution_count": null,
      "outputs": []
    },
    {
      "cell_type": "code",
      "source": [
        "fig2 = model.plot_components(prediction)"
      ],
      "metadata": {
        "id": "OXZjVJRB6yiC"
      },
      "execution_count": null,
      "outputs": []
    },
    {
      "cell_type": "code",
      "source": [
        "from fbprophet.diagnostics import cross_validation"
      ],
      "metadata": {
        "id": "DG8zjuUU7Oc0"
      },
      "execution_count": null,
      "outputs": []
    },
    {
      "cell_type": "code",
      "source": [
        "df_cv = cross_validation(model, horizon = '60 days')"
      ],
      "metadata": {
        "id": "7zk0jqvL7OfE"
      },
      "execution_count": null,
      "outputs": []
    },
    {
      "cell_type": "code",
      "source": [
        "df_cv.tail()"
      ],
      "metadata": {
        "id": "7yTi1pmk7OjZ"
      },
      "execution_count": null,
      "outputs": []
    },
    {
      "cell_type": "code",
      "source": [
        "from fbprophet.diagnostics import performance_metrics"
      ],
      "metadata": {
        "id": "yPNxqPZB7XCn"
      },
      "execution_count": null,
      "outputs": []
    },
    {
      "cell_type": "code",
      "source": [
        "df_performance = performance_metrics(df_cv)"
      ],
      "metadata": {
        "id": "_wvQ-5FB7Olo"
      },
      "execution_count": null,
      "outputs": []
    },
    {
      "cell_type": "code",
      "source": [
        "df_performance"
      ],
      "metadata": {
        "id": "vZeCIdhd7OqU"
      },
      "execution_count": null,
      "outputs": []
    },
    {
      "cell_type": "code",
      "source": [
        "from fbprophet import plot\n",
        "\n",
        "fig2 = plot.plot_cross_validation_metric(df_cv, metric='mape')"
      ],
      "metadata": {
        "id": "onYquHC57Osk"
      },
      "execution_count": null,
      "outputs": []
    },
    {
      "cell_type": "code",
      "source": [
        ""
      ],
      "metadata": {
        "id": "rL-cByXd7Ow4"
      },
      "execution_count": null,
      "outputs": []
    },
    {
      "cell_type": "code",
      "source": [
        ""
      ],
      "metadata": {
        "id": "llI-sO0z7OzV"
      },
      "execution_count": null,
      "outputs": []
    }
  ]
}